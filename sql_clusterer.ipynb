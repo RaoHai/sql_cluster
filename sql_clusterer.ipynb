{
 "cells": [
  {
   "attachments": {},
   "cell_type": "markdown",
   "metadata": {},
   "source": [
    "This notebook shows sql clustering using embedding and vector database"
   ]
  },
  {
   "attachments": {},
   "cell_type": "markdown",
   "metadata": {},
   "source": [
    "## 1. Breparing Database"
   ]
  },
  {
   "cell_type": "code",
   "execution_count": 13,
   "metadata": {},
   "outputs": [
    {
     "name": "stdout",
     "output_type": "stream",
     "text": [
      "Requirement already satisfied: pandas==2.0.3 in c:\\users\\administrator\\appdata\\local\\programs\\python\\python310\\lib\\site-packages (from -r requirements.txt (line 1)) (2.0.3)\n",
      "Requirement already satisfied: pyarrow==14.0.1 in c:\\users\\administrator\\appdata\\local\\programs\\python\\python310\\lib\\site-packages (from -r requirements.txt (line 2)) (14.0.1)\n",
      "Requirement already satisfied: fsspec in c:\\users\\administrator\\appdata\\local\\programs\\python\\python310\\lib\\site-packages (from -r requirements.txt (line 3)) (2025.2.0)\n",
      "Requirement already satisfied: huggingface_hub in c:\\users\\administrator\\appdata\\local\\programs\\python\\python310\\lib\\site-packages (from -r requirements.txt (line 4)) (0.28.1)\n",
      "Requirement already satisfied: transformers in c:\\users\\administrator\\appdata\\local\\programs\\python\\python310\\lib\\site-packages (from -r requirements.txt (line 5)) (4.49.0)\n",
      "Requirement already satisfied: torch==2.5.1 in c:\\users\\administrator\\appdata\\local\\programs\\python\\python310\\lib\\site-packages (from -r requirements.txt (line 6)) (2.5.1)\n",
      "Requirement already satisfied: torchvision==0.20.1 in c:\\users\\administrator\\appdata\\local\\programs\\python\\python310\\lib\\site-packages (from -r requirements.txt (line 7)) (0.20.1)\n",
      "Requirement already satisfied: torchaudio==2.5.1 in c:\\users\\administrator\\appdata\\local\\programs\\python\\python310\\lib\\site-packages (from -r requirements.txt (line 8)) (2.5.1)\n",
      "Collecting annoy\n",
      "  Downloading annoy-1.17.3.tar.gz (647 kB)\n",
      "     ---------------------------------------- 0.0/647.5 kB ? eta -:--:--\n",
      "      --------------------------------------- 10.2/647.5 kB ? eta -:--:--\n",
      "      --------------------------------------- 10.2/647.5 kB ? eta -:--:--\n",
      "     - ----------------------------------- 30.7/647.5 kB 259.2 kB/s eta 0:00:03\n",
      "     - ----------------------------------- 30.7/647.5 kB 259.2 kB/s eta 0:00:03\n",
      "     -- ---------------------------------- 41.0/647.5 kB 195.7 kB/s eta 0:00:04\n",
      "     ---- -------------------------------- 81.9/647.5 kB 305.0 kB/s eta 0:00:02\n",
      "     ----- ------------------------------- 92.2/647.5 kB 308.0 kB/s eta 0:00:02\n",
      "     ------ ----------------------------- 122.9/647.5 kB 359.9 kB/s eta 0:00:02\n",
      "     ------- ---------------------------- 143.4/647.5 kB 387.0 kB/s eta 0:00:02\n",
      "     ---------- ------------------------- 194.6/647.5 kB 452.9 kB/s eta 0:00:02\n",
      "     ------------- ---------------------- 245.8/647.5 kB 518.8 kB/s eta 0:00:01\n",
      "     --------------- -------------------- 286.7/647.5 kB 553.0 kB/s eta 0:00:01\n",
      "     ------------------- ---------------- 358.4/647.5 kB 636.5 kB/s eta 0:00:01\n",
      "     ------------------------ ----------- 440.3/647.5 kB 705.0 kB/s eta 0:00:01\n",
      "     ----------------------------- ------ 522.2/647.5 kB 798.8 kB/s eta 0:00:01\n",
      "     -----------------------------------  645.1/647.5 kB 901.8 kB/s eta 0:00:01\n",
      "     ------------------------------------ 647.5/647.5 kB 905.1 kB/s eta 0:00:00\n",
      "  Preparing metadata (setup.py): started\n",
      "  Preparing metadata (setup.py): finished with status 'done'\n",
      "Requirement already satisfied: tzdata>=2022.1 in c:\\users\\administrator\\appdata\\local\\programs\\python\\python310\\lib\\site-packages (from pandas==2.0.3->-r requirements.txt (line 1)) (2025.1)\n",
      "Requirement already satisfied: pytz>=2020.1 in c:\\users\\administrator\\appdata\\local\\programs\\python\\python310\\lib\\site-packages (from pandas==2.0.3->-r requirements.txt (line 1)) (2023.2)\n",
      "Requirement already satisfied: python-dateutil>=2.8.2 in c:\\users\\administrator\\appdata\\local\\programs\\python\\python310\\lib\\site-packages (from pandas==2.0.3->-r requirements.txt (line 1)) (2.8.2)\n",
      "Requirement already satisfied: numpy>=1.21.0 in c:\\users\\administrator\\appdata\\local\\programs\\python\\python310\\lib\\site-packages (from pandas==2.0.3->-r requirements.txt (line 1)) (1.24.2)\n",
      "Requirement already satisfied: sympy==1.13.1 in c:\\users\\administrator\\appdata\\local\\programs\\python\\python310\\lib\\site-packages (from torch==2.5.1->-r requirements.txt (line 6)) (1.13.1)\n",
      "Requirement already satisfied: filelock in c:\\users\\administrator\\appdata\\local\\programs\\python\\python310\\lib\\site-packages (from torch==2.5.1->-r requirements.txt (line 6)) (3.10.7)\n",
      "Requirement already satisfied: jinja2 in c:\\users\\administrator\\appdata\\local\\programs\\python\\python310\\lib\\site-packages (from torch==2.5.1->-r requirements.txt (line 6)) (3.1.5)\n",
      "Requirement already satisfied: typing-extensions>=4.8.0 in c:\\users\\administrator\\appdata\\local\\programs\\python\\python310\\lib\\site-packages (from torch==2.5.1->-r requirements.txt (line 6)) (4.12.2)\n",
      "Requirement already satisfied: networkx in c:\\users\\administrator\\appdata\\local\\programs\\python\\python310\\lib\\site-packages (from torch==2.5.1->-r requirements.txt (line 6)) (3.4.2)\n",
      "Requirement already satisfied: pillow!=8.3.*,>=5.3.0 in c:\\users\\administrator\\appdata\\local\\programs\\python\\python310\\lib\\site-packages (from torchvision==0.20.1->-r requirements.txt (line 7)) (9.4.0)\n",
      "Requirement already satisfied: mpmath<1.4,>=1.1.0 in c:\\users\\administrator\\appdata\\local\\programs\\python\\python310\\lib\\site-packages (from sympy==1.13.1->torch==2.5.1->-r requirements.txt (line 6)) (1.3.0)\n",
      "Requirement already satisfied: pyyaml>=5.1 in c:\\users\\administrator\\appdata\\local\\programs\\python\\python310\\lib\\site-packages (from huggingface_hub->-r requirements.txt (line 4)) (6.0)\n",
      "Requirement already satisfied: tqdm>=4.42.1 in c:\\users\\administrator\\appdata\\local\\programs\\python\\python310\\lib\\site-packages (from huggingface_hub->-r requirements.txt (line 4)) (4.66.2)\n",
      "Requirement already satisfied: packaging>=20.9 in c:\\users\\administrator\\appdata\\local\\programs\\python\\python310\\lib\\site-packages (from huggingface_hub->-r requirements.txt (line 4)) (23.2)\n",
      "Requirement already satisfied: requests in c:\\users\\administrator\\appdata\\local\\programs\\python\\python310\\lib\\site-packages (from huggingface_hub->-r requirements.txt (line 4)) (2.31.0)\n",
      "Requirement already satisfied: regex!=2019.12.17 in c:\\users\\administrator\\appdata\\local\\programs\\python\\python310\\lib\\site-packages (from transformers->-r requirements.txt (line 5)) (2023.12.25)\n",
      "Requirement already satisfied: safetensors>=0.4.1 in c:\\users\\administrator\\appdata\\local\\programs\\python\\python310\\lib\\site-packages (from transformers->-r requirements.txt (line 5)) (0.5.2)\n",
      "Requirement already satisfied: tokenizers<0.22,>=0.21 in c:\\users\\administrator\\appdata\\local\\programs\\python\\python310\\lib\\site-packages (from transformers->-r requirements.txt (line 5)) (0.21.0)\n",
      "Requirement already satisfied: six>=1.5 in c:\\users\\administrator\\appdata\\local\\programs\\python\\python310\\lib\\site-packages (from python-dateutil>=2.8.2->pandas==2.0.3->-r requirements.txt (line 1)) (1.16.0)\n",
      "Requirement already satisfied: colorama in c:\\users\\administrator\\appdata\\local\\programs\\python\\python310\\lib\\site-packages (from tqdm>=4.42.1->huggingface_hub->-r requirements.txt (line 4)) (0.4.6)\n",
      "Requirement already satisfied: MarkupSafe>=2.0 in c:\\users\\administrator\\appdata\\local\\programs\\python\\python310\\lib\\site-packages (from jinja2->torch==2.5.1->-r requirements.txt (line 6)) (3.0.2)\n",
      "Requirement already satisfied: idna<4,>=2.5 in c:\\users\\administrator\\appdata\\local\\programs\\python\\python310\\lib\\site-packages (from requests->huggingface_hub->-r requirements.txt (line 4)) (3.4)\n",
      "Requirement already satisfied: urllib3<3,>=1.21.1 in c:\\users\\administrator\\appdata\\local\\programs\\python\\python310\\lib\\site-packages (from requests->huggingface_hub->-r requirements.txt (line 4)) (2.2.3)\n",
      "Requirement already satisfied: charset-normalizer<4,>=2 in c:\\users\\administrator\\appdata\\local\\programs\\python\\python310\\lib\\site-packages (from requests->huggingface_hub->-r requirements.txt (line 4)) (3.3.2)\n",
      "Requirement already satisfied: certifi>=2017.4.17 in c:\\users\\administrator\\appdata\\local\\programs\\python\\python310\\lib\\site-packages (from requests->huggingface_hub->-r requirements.txt (line 4)) (2024.2.2)\n",
      "Installing collected packages: annoy\n",
      "  Running setup.py install for annoy: started\n",
      "  Running setup.py install for annoy: finished with status 'done'\n",
      "Successfully installed annoy-1.17.3\n",
      "Note: you may need to restart the kernel to use updated packages.\n"
     ]
    },
    {
     "name": "stderr",
     "output_type": "stream",
     "text": [
      "  DEPRECATION: annoy is being installed using the legacy 'setup.py install' method, because it does not have a 'pyproject.toml' and the 'wheel' package is not installed. pip 23.1 will enforce this behaviour change. A possible replacement is to enable the '--use-pep517' option. Discussion can be found at https://github.com/pypa/pip/issues/8559\n",
      "\n",
      "[notice] A new release of pip is available: 23.0.1 -> 25.0.1\n",
      "[notice] To update, run: python.exe -m pip install --upgrade pip\n"
     ]
    }
   ],
   "source": [
    "%pip install -r requirements.txt"
   ]
  },
  {
   "cell_type": "code",
   "execution_count": 12,
   "metadata": {},
   "outputs": [
    {
     "data": {
      "text/plain": [
       "<bound method NDFrame.head of           id                 domain  \\\n",
       "0       5097               forestry   \n",
       "1       5098       defense industry   \n",
       "2       5099         marine biology   \n",
       "3       5100     financial services   \n",
       "4       5101                 energy   \n",
       "...      ...                    ...   \n",
       "99995  89651              nonprofit   \n",
       "99996  89652                 retail   \n",
       "99997  89653       fitness industry   \n",
       "99998  89654      space exploration   \n",
       "99999  89655  wildlife conservation   \n",
       "\n",
       "                                      domain_description    sql_complexity  \\\n",
       "0      Comprehensive data on sustainable forest manag...       single join   \n",
       "1      Defense contract data, military equipment main...       aggregation   \n",
       "2      Comprehensive data on marine species, oceanogr...         basic SQL   \n",
       "3      Detailed financial data including investment s...       aggregation   \n",
       "4      Energy market data covering renewable energy s...  window functions   \n",
       "...                                                  ...               ...   \n",
       "99995  Nonprofit data on charitable giving trends, so...         basic SQL   \n",
       "99996  Retail data on circular supply chains, ethical...       single join   \n",
       "99997  Workout data, membership demographics, wearabl...       single join   \n",
       "99998  Spacecraft manufacturing data, space mission r...       single join   \n",
       "99999  Animal population data, habitat preservation e...         basic SQL   \n",
       "\n",
       "                              sql_complexity_description  \\\n",
       "0            only one join (specify inner, outer, cross)   \n",
       "1      aggregation functions (COUNT, SUM, AVG, MIN, M...   \n",
       "2               basic SQL with a simple select statement   \n",
       "3      aggregation functions (COUNT, SUM, AVG, MIN, M...   \n",
       "4      window functions (e.g., ROW_NUMBER, LEAD, LAG,...   \n",
       "...                                                  ...   \n",
       "99995           basic SQL with a simple select statement   \n",
       "99996        only one join (specify inner, outer, cross)   \n",
       "99997        only one join (specify inner, outer, cross)   \n",
       "99998        only one join (specify inner, outer, cross)   \n",
       "99999           basic SQL with a simple select statement   \n",
       "\n",
       "                 sql_task_type  \\\n",
       "0      analytics and reporting   \n",
       "1      analytics and reporting   \n",
       "2      analytics and reporting   \n",
       "3      analytics and reporting   \n",
       "4      analytics and reporting   \n",
       "...                        ...   \n",
       "99995  analytics and reporting   \n",
       "99996  analytics and reporting   \n",
       "99997  analytics and reporting   \n",
       "99998  analytics and reporting   \n",
       "99999  analytics and reporting   \n",
       "\n",
       "                               sql_task_type_description  \\\n",
       "0      generating reports, dashboards, and analytical...   \n",
       "1      generating reports, dashboards, and analytical...   \n",
       "2      generating reports, dashboards, and analytical...   \n",
       "3      generating reports, dashboards, and analytical...   \n",
       "4      generating reports, dashboards, and analytical...   \n",
       "...                                                  ...   \n",
       "99995  generating reports, dashboards, and analytical...   \n",
       "99996  generating reports, dashboards, and analytical...   \n",
       "99997  generating reports, dashboards, and analytical...   \n",
       "99998  generating reports, dashboards, and analytical...   \n",
       "99999  generating reports, dashboards, and analytical...   \n",
       "\n",
       "                                              sql_prompt  \\\n",
       "0      What is the total volume of timber sold by eac...   \n",
       "1      List all the unique equipment types and their ...   \n",
       "2      How many marine species are found in the South...   \n",
       "3      What is the total trade value and average pric...   \n",
       "4      Find the energy efficiency upgrades with the h...   \n",
       "...                                                  ...   \n",
       "99995  Which programs had the highest volunteer parti...   \n",
       "99996  What is the number of fair-trade certified acc...   \n",
       "99997  Find the user with the longest workout session...   \n",
       "99998  How many space missions were completed by each...   \n",
       "99999  Determine the number of unique animal species ...   \n",
       "\n",
       "                                             sql_context  \\\n",
       "0      CREATE TABLE salesperson (salesperson_id INT, ...   \n",
       "1      CREATE TABLE equipment_maintenance (equipment_...   \n",
       "2      CREATE TABLE marine_species (name VARCHAR(50),...   \n",
       "3      CREATE TABLE trade_history (id INT, trader_id ...   \n",
       "4      CREATE TABLE upgrades (id INT, cost FLOAT, typ...   \n",
       "...                                                  ...   \n",
       "99995  CREATE TABLE programs (program_id INT, num_vol...   \n",
       "99996  CREATE TABLE products (product_id INT, product...   \n",
       "99997  CREATE TABLE workout_sessions (id INT, user_id...   \n",
       "99998  CREATE TABLE SpaceMissions (id INT, astronaut_...   \n",
       "99999  CREATE TABLE animal_population (id INT, animal...   \n",
       "\n",
       "                                                     sql  \\\n",
       "0      SELECT salesperson_id, name, SUM(volume) as to...   \n",
       "1      SELECT equipment_type, SUM(maintenance_frequen...   \n",
       "2      SELECT COUNT(*) FROM marine_species WHERE loca...   \n",
       "3      SELECT trader_id, stock, SUM(price * quantity)...   \n",
       "4      SELECT type, cost FROM (SELECT type, cost, ROW...   \n",
       "...                                                  ...   \n",
       "99995  SELECT program_id, (num_volunteers / total_par...   \n",
       "99996  SELECT COUNT(*) FROM products WHERE is_fair_tr...   \n",
       "99997  SELECT u.name, MAX(session_duration) as max_du...   \n",
       "99998  SELECT a.name, COUNT(sm.id) FROM Astronauts a ...   \n",
       "99999  SELECT COUNT(DISTINCT animal_species) AS uniqu...   \n",
       "\n",
       "                                         sql_explanation  \n",
       "0      Joins timber_sales and salesperson tables, gro...  \n",
       "1      This query groups the equipment_maintenance ta...  \n",
       "2      This query counts the number of marine species...  \n",
       "3      This query calculates the total trade value an...  \n",
       "4      The SQL query uses the ROW_NUMBER function to ...  \n",
       "...                                                  ...  \n",
       "99995  This query calculates the participation rate f...  \n",
       "99996  The query counts the number of fair-trade cert...  \n",
       "99997  The query joins the workout_sessions and users...  \n",
       "99998  This query calculates the number of space miss...  \n",
       "99999  This query calculates the number of unique ani...  \n",
       "\n",
       "[100000 rows x 11 columns]>"
      ]
     },
     "execution_count": 12,
     "metadata": {},
     "output_type": "execute_result"
    }
   ],
   "source": [
    "\n",
    "import pandas as pd\n",
    "\n",
    "splits = {'train': 'synthetic_text_to_sql_train.snappy.parquet', 'test': 'synthetic_text_to_sql_test.snappy.parquet'}\n",
    "df = pd.read_parquet(\"hf://datasets/gretelai/synthetic_text_to_sql/\" + splits[\"train\"])\n",
    "\n",
    "df.head"
   ]
  },
  {
   "cell_type": "code",
   "execution_count": 2,
   "metadata": {},
   "outputs": [
    {
     "name": "stderr",
     "output_type": "stream",
     "text": [
      "c:\\Users\\Administrator\\AppData\\Local\\Programs\\Python\\Python310\\lib\\site-packages\\tqdm\\auto.py:21: TqdmWarning: IProgress not found. Please update jupyter and ipywidgets. See https://ipywidgets.readthedocs.io/en/stable/user_install.html\n",
      "  from .autonotebook import tqdm as notebook_tqdm\n",
      "Device set to use cpu\n"
     ]
    }
   ],
   "source": [
    "from transformers import pipeline\n",
    "pipe = pipeline(\"feature-extraction\", model=\"microsoft/codebert-base\")     "
   ]
  },
  {
   "cell_type": "code",
   "execution_count": 7,
   "metadata": {},
   "outputs": [
    {
     "name": "stdout",
     "output_type": "stream",
     "text": [
      "Embedding size: (1, 12, 768)\n"
     ]
    }
   ],
   "source": [
    "import numpy as np\n",
    "\n",
    "\n",
    "sql_query = \"SELECT name, age FROM users WHERE age > 30\"\n",
    "embeddings = pipe(sql_query)\n",
    "\n",
    "embedding_size = np.array(embeddings).shape\n",
    "print(f\"Embedding size: {embedding_size}\")"
   ]
  },
  {
   "attachments": {},
   "cell_type": "markdown",
   "metadata": {},
   "source": [
    "# Using FAISS as Vector database"
   ]
  },
  {
   "cell_type": "code",
   "execution_count": 10,
   "metadata": {},
   "outputs": [
    {
     "ename": "ModuleNotFoundError",
     "evalue": "No module named 'faiss'",
     "output_type": "error",
     "traceback": [
      "\u001b[1;31m---------------------------------------------------------------------------\u001b[0m",
      "\u001b[1;31mModuleNotFoundError\u001b[0m                       Traceback (most recent call last)",
      "Cell \u001b[1;32mIn[10], line 1\u001b[0m\n\u001b[1;32m----> 1\u001b[0m \u001b[39mimport\u001b[39;00m\u001b[39m \u001b[39m\u001b[39mfaiss\u001b[39;00m\n\u001b[0;32m      3\u001b[0m d \u001b[39m=\u001b[39m \u001b[39m768\u001b[39m  \u001b[39m# 向量维度\u001b[39;00m\n\u001b[0;32m      5\u001b[0m \u001b[39m# 创建 FAISS 索引\u001b[39;00m\n",
      "\u001b[1;31mModuleNotFoundError\u001b[0m: No module named 'faiss'"
     ]
    }
   ],
   "source": [
    "from annoy import AnnoyIndex\n",
    "\n",
    "f = 768  # 向量维度\n",
    "\n",
    "t = AnnoyIndex(f, 'angular')  # 使用 angular 距离度量\n"
   ]
  }
 ],
 "metadata": {
  "kernelspec": {
   "display_name": "Python 3",
   "language": "python",
   "name": "python3"
  },
  "language_info": {
   "codemirror_mode": {
    "name": "ipython",
    "version": 3
   },
   "file_extension": ".py",
   "mimetype": "text/x-python",
   "name": "python",
   "nbconvert_exporter": "python",
   "pygments_lexer": "ipython3",
   "version": "3.10.9"
  },
  "orig_nbformat": 4,
  "vscode": {
   "interpreter": {
    "hash": "3196968d684371006099b3d55edeef8ed90365227a30deaef86e5d4aa8519be0"
   }
  }
 },
 "nbformat": 4,
 "nbformat_minor": 2
}
